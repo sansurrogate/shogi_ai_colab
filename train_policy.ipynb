{
  "nbformat": 4,
  "nbformat_minor": 0,
  "metadata": {
    "colab": {
      "name": "train_policy.ipynb",
      "private_outputs": true,
      "provenance": [],
      "collapsed_sections": [],
      "authorship_tag": "ABX9TyPfof976B8V9GfxVkaBp1xC",
      "include_colab_link": true
    },
    "kernelspec": {
      "name": "python3",
      "display_name": "Python 3"
    },
    "language_info": {
      "name": "python"
    },
    "accelerator": "GPU"
  },
  "cells": [
    {
      "cell_type": "markdown",
      "metadata": {
        "id": "view-in-github",
        "colab_type": "text"
      },
      "source": [
        "<a href=\"https://colab.research.google.com/github/sansurrogate/shogi_ai_colab/blob/main/train_policy.ipynb\" target=\"_parent\"><img src=\"https://colab.research.google.com/assets/colab-badge.svg\" alt=\"Open In Colab\"/></a>"
      ]
    },
    {
      "cell_type": "code",
      "metadata": {
        "id": "yBv7foL2RYJo"
      },
      "source": [
        "from google.colab import drive\n",
        "drive.mount('/content/drive')"
      ],
      "execution_count": null,
      "outputs": []
    },
    {
      "cell_type": "code",
      "metadata": {
        "id": "WnhqS_PdR6rB"
      },
      "source": [
        "dataset_dir = \"/content/drive/MyDrive/Workspace/Dataset/shogi_ai/data/dataset_information\"\n",
        "kifulist_train = dataset_dir + \"/kifulist_train_middle.pickle\"\n",
        "kifulist_valid = dataset_dir + \"/kifulist_valid_middle.pickle\"\n",
        "\n",
        "kifulist_train, kifulist_valid"
      ],
      "execution_count": null,
      "outputs": []
    },
    {
      "cell_type": "code",
      "metadata": {
        "id": "-naGec8VRSZn"
      },
      "source": [
        "! pip install poetry\n",
        "%cd /content\n",
        "! rm -rf shogi_ai\n",
        "! git clone https://github.com/sansurrogate/shogi_ai.git\n",
        "%cd shogi_ai\n",
        "! poetry install"
      ],
      "execution_count": null,
      "outputs": []
    },
    {
      "cell_type": "code",
      "metadata": {
        "id": "zug_f3WFScu0"
      },
      "source": [
        "! git pull"
      ],
      "execution_count": null,
      "outputs": []
    },
    {
      "cell_type": "code",
      "metadata": {
        "id": "U9wksYeZR-7t"
      },
      "source": [
        "! poetry run python src/policy_train.py kifulist_train=\"$kifulist_train\" kifulist_valid=\"$kifulist_valid\" gpus=1 epoch=100"
      ],
      "execution_count": null,
      "outputs": []
    },
    {
      "cell_type": "code",
      "metadata": {
        "id": "dPA9uyUX5QwQ"
      },
      "source": [
        "! mkdir -p /content/drive/MyDrive/Workspace/Dataset/shogi_ai/outputs/2021-07-04/\n",
        "! cp -r /content/shogi_ai/outputs/2021-07-04/10-55-12 /content/drive/MyDrive/Workspace/Dataset/shogi_ai/outputs/2021-07-04/"
      ],
      "execution_count": null,
      "outputs": []
    }
  ]
}