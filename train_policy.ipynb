{
  "nbformat": 4,
  "nbformat_minor": 0,
  "metadata": {
    "colab": {
      "name": "Untitled2.ipynb",
      "provenance": [],
      "collapsed_sections": [],
      "authorship_tag": "ABX9TyPhkInUd3wwtiBNdwpikHto",
      "include_colab_link": true
    },
    "kernelspec": {
      "name": "python3",
      "display_name": "Python 3"
    },
    "language_info": {
      "name": "python"
    },
    "accelerator": "GPU"
  },
  "cells": [
    {
      "cell_type": "markdown",
      "metadata": {
        "id": "view-in-github",
        "colab_type": "text"
      },
      "source": [
        "<a href=\"https://colab.research.google.com/github/sansurrogate/shogi_ai_colab/blob/main/train_policy.ipynb\" target=\"_parent\"><img src=\"https://colab.research.google.com/assets/colab-badge.svg\" alt=\"Open In Colab\"/></a>"
      ]
    },
    {
      "cell_type": "code",
      "metadata": {
        "colab": {
          "base_uri": "https://localhost:8080/"
        },
        "id": "yBv7foL2RYJo",
        "outputId": "2624627c-bc8d-462a-a81d-60a87306e93c"
      },
      "source": [
        "from google.colab import drive\n",
        "drive.mount('/content/drive')"
      ],
      "execution_count": 1,
      "outputs": [
        {
          "output_type": "stream",
          "text": [
            "Mounted at /content/drive\n"
          ],
          "name": "stdout"
        }
      ]
    },
    {
      "cell_type": "code",
      "metadata": {
        "colab": {
          "base_uri": "https://localhost:8080/"
        },
        "id": "WnhqS_PdR6rB",
        "outputId": "c3464d3b-a26a-487c-d47e-72817884ef17"
      },
      "source": [
        "dataset_dir = \"/content/drive/MyDrive/Workspace/Dataset/shogi_ai/data/dataset_information\"\n",
        "kifulist_train = dataset_dir + \"/kifulist_train_middle.pickle\"\n",
        "kifulist_valid = dataset_dir + \"/kifulist_valid_middle.pickle\"\n",
        "\n",
        "kifulist_train, kifulist_valid"
      ],
      "execution_count": 17,
      "outputs": [
        {
          "output_type": "execute_result",
          "data": {
            "text/plain": [
              "('/content/drive/MyDrive/Workspace/Dataset/shogi_ai/data/dataset_information/kifulist_train_middle.pickle',\n",
              " '/content/drive/MyDrive/Workspace/Dataset/shogi_ai/data/dataset_information/kifulist_valid_middle.pickle')"
            ]
          },
          "metadata": {
            "tags": []
          },
          "execution_count": 17
        }
      ]
    },
    {
      "cell_type": "code",
      "metadata": {
        "colab": {
          "base_uri": "https://localhost:8080/"
        },
        "id": "-naGec8VRSZn",
        "outputId": "ed547f10-7fb3-488b-96a6-67514d6ac0bf"
      },
      "source": [
        "! pip install poetry\n",
        "%cd /content\n",
        "! rm -rf shogi_ai\n",
        "! git clone https://github.com/sansurrogate/shogi_ai.git\n",
        "%cd shogi_ai\n",
        "! poetry install"
      ],
      "execution_count": 9,
      "outputs": [
        {
          "output_type": "stream",
          "text": [
            "Requirement already satisfied: poetry in /usr/local/lib/python3.7/dist-packages (1.1.7)\n",
            "Requirement already satisfied: cachecontrol[filecache]<0.13.0,>=0.12.4 in /usr/local/lib/python3.7/dist-packages (from poetry) (0.12.6)\n",
            "Requirement already satisfied: requests-toolbelt<0.10.0,>=0.9.1 in /usr/local/lib/python3.7/dist-packages (from poetry) (0.9.1)\n",
            "Requirement already satisfied: tomlkit<1.0.0,>=0.7.0 in /usr/local/lib/python3.7/dist-packages (from poetry) (0.7.2)\n",
            "Requirement already satisfied: shellingham<2.0,>=1.1 in /usr/local/lib/python3.7/dist-packages (from poetry) (1.4.0)\n",
            "Requirement already satisfied: html5lib<2.0,>=1.0 in /usr/local/lib/python3.7/dist-packages (from poetry) (1.0.1)\n",
            "Requirement already satisfied: virtualenv<21.0.0,>=20.0.26 in /usr/local/lib/python3.7/dist-packages (from poetry) (20.4.7)\n",
            "Requirement already satisfied: keyring<22.0.0,>=21.2.0; python_version >= \"3.6\" and python_version < \"4.0\" in /usr/local/lib/python3.7/dist-packages (from poetry) (21.8.0)\n",
            "Requirement already satisfied: clikit<0.7.0,>=0.6.2 in /usr/local/lib/python3.7/dist-packages (from poetry) (0.6.2)\n",
            "Requirement already satisfied: pexpect<5.0.0,>=4.7.0 in /usr/local/lib/python3.7/dist-packages (from poetry) (4.8.0)\n",
            "Requirement already satisfied: cachy<0.4.0,>=0.3.0 in /usr/local/lib/python3.7/dist-packages (from poetry) (0.3.0)\n",
            "Requirement already satisfied: crashtest<0.4.0,>=0.3.0; python_version >= \"3.6\" and python_version < \"4.0\" in /usr/local/lib/python3.7/dist-packages (from poetry) (0.3.1)\n",
            "Requirement already satisfied: packaging<21.0,>=20.4 in /usr/local/lib/python3.7/dist-packages (from poetry) (20.9)\n",
            "Requirement already satisfied: cleo<0.9.0,>=0.8.1 in /usr/local/lib/python3.7/dist-packages (from poetry) (0.8.1)\n",
            "Requirement already satisfied: pkginfo<2.0,>=1.4 in /usr/local/lib/python3.7/dist-packages (from poetry) (1.7.0)\n",
            "Requirement already satisfied: requests<3.0,>=2.18 in /usr/local/lib/python3.7/dist-packages (from poetry) (2.23.0)\n",
            "Requirement already satisfied: importlib-metadata<2.0.0,>=1.6.0; python_version < \"3.8\" in /usr/local/lib/python3.7/dist-packages (from poetry) (1.7.0)\n",
            "Requirement already satisfied: poetry-core<1.1.0,>=1.0.3 in /usr/local/lib/python3.7/dist-packages (from poetry) (1.0.3)\n",
            "Requirement already satisfied: msgpack>=0.5.2 in /usr/local/lib/python3.7/dist-packages (from cachecontrol[filecache]<0.13.0,>=0.12.4->poetry) (1.0.2)\n",
            "Requirement already satisfied: lockfile>=0.9; extra == \"filecache\" in /usr/local/lib/python3.7/dist-packages (from cachecontrol[filecache]<0.13.0,>=0.12.4->poetry) (0.12.2)\n",
            "Requirement already satisfied: six>=1.9 in /usr/local/lib/python3.7/dist-packages (from html5lib<2.0,>=1.0->poetry) (1.15.0)\n",
            "Requirement already satisfied: webencodings in /usr/local/lib/python3.7/dist-packages (from html5lib<2.0,>=1.0->poetry) (0.5.1)\n",
            "Requirement already satisfied: appdirs<2,>=1.4.3 in /usr/local/lib/python3.7/dist-packages (from virtualenv<21.0.0,>=20.0.26->poetry) (1.4.4)\n",
            "Requirement already satisfied: filelock<4,>=3.0.0 in /usr/local/lib/python3.7/dist-packages (from virtualenv<21.0.0,>=20.0.26->poetry) (3.0.12)\n",
            "Requirement already satisfied: distlib<1,>=0.3.1 in /usr/local/lib/python3.7/dist-packages (from virtualenv<21.0.0,>=20.0.26->poetry) (0.3.2)\n",
            "Requirement already satisfied: SecretStorage>=3.2; sys_platform == \"linux\" in /usr/local/lib/python3.7/dist-packages (from keyring<22.0.0,>=21.2.0; python_version >= \"3.6\" and python_version < \"4.0\"->poetry) (3.3.1)\n",
            "Requirement already satisfied: jeepney>=0.4.2; sys_platform == \"linux\" in /usr/local/lib/python3.7/dist-packages (from keyring<22.0.0,>=21.2.0; python_version >= \"3.6\" and python_version < \"4.0\"->poetry) (0.6.0)\n",
            "Requirement already satisfied: pylev<2.0,>=1.3 in /usr/local/lib/python3.7/dist-packages (from clikit<0.7.0,>=0.6.2->poetry) (1.4.0)\n",
            "Requirement already satisfied: pastel<0.3.0,>=0.2.0 in /usr/local/lib/python3.7/dist-packages (from clikit<0.7.0,>=0.6.2->poetry) (0.2.1)\n",
            "Requirement already satisfied: ptyprocess>=0.5 in /usr/local/lib/python3.7/dist-packages (from pexpect<5.0.0,>=4.7.0->poetry) (0.7.0)\n",
            "Requirement already satisfied: pyparsing>=2.0.2 in /usr/local/lib/python3.7/dist-packages (from packaging<21.0,>=20.4->poetry) (2.4.7)\n",
            "Requirement already satisfied: idna<3,>=2.5 in /usr/local/lib/python3.7/dist-packages (from requests<3.0,>=2.18->poetry) (2.10)\n",
            "Requirement already satisfied: urllib3!=1.25.0,!=1.25.1,<1.26,>=1.21.1 in /usr/local/lib/python3.7/dist-packages (from requests<3.0,>=2.18->poetry) (1.24.3)\n",
            "Requirement already satisfied: certifi>=2017.4.17 in /usr/local/lib/python3.7/dist-packages (from requests<3.0,>=2.18->poetry) (2021.5.30)\n",
            "Requirement already satisfied: chardet<4,>=3.0.2 in /usr/local/lib/python3.7/dist-packages (from requests<3.0,>=2.18->poetry) (3.0.4)\n",
            "Requirement already satisfied: zipp>=0.5 in /usr/local/lib/python3.7/dist-packages (from importlib-metadata<2.0.0,>=1.6.0; python_version < \"3.8\"->poetry) (3.4.1)\n",
            "Requirement already satisfied: cryptography>=2.0 in /usr/local/lib/python3.7/dist-packages (from SecretStorage>=3.2; sys_platform == \"linux\"->keyring<22.0.0,>=21.2.0; python_version >= \"3.6\" and python_version < \"4.0\"->poetry) (3.4.7)\n",
            "Requirement already satisfied: cffi>=1.12 in /usr/local/lib/python3.7/dist-packages (from cryptography>=2.0->SecretStorage>=3.2; sys_platform == \"linux\"->keyring<22.0.0,>=21.2.0; python_version >= \"3.6\" and python_version < \"4.0\"->poetry) (1.14.5)\n",
            "Requirement already satisfied: pycparser in /usr/local/lib/python3.7/dist-packages (from cffi>=1.12->cryptography>=2.0->SecretStorage>=3.2; sys_platform == \"linux\"->keyring<22.0.0,>=21.2.0; python_version >= \"3.6\" and python_version < \"4.0\"->poetry) (2.20)\n",
            "/content\n",
            "Cloning into 'shogi_ai'...\n",
            "remote: Enumerating objects: 53, done.\u001b[K\n",
            "remote: Counting objects: 100% (53/53), done.\u001b[K\n",
            "remote: Compressing objects: 100% (34/34), done.\u001b[K\n",
            "remote: Total 53 (delta 14), reused 49 (delta 13), pack-reused 0\u001b[K\n",
            "Unpacking objects: 100% (53/53), done.\n",
            "/content/shogi_ai\n",
            "\u001b[34mInstalling dependencies from lock file\u001b[0m\n",
            "\n",
            "No dependencies to install or update\n"
          ],
          "name": "stdout"
        }
      ]
    },
    {
      "cell_type": "code",
      "metadata": {
        "colab": {
          "base_uri": "https://localhost:8080/"
        },
        "id": "zug_f3WFScu0",
        "outputId": "bf6dba58-be39-40ef-e870-838280ab6721"
      },
      "source": [
        "! git pull"
      ],
      "execution_count": 23,
      "outputs": [
        {
          "output_type": "stream",
          "text": [
            "Updating 9e2ab81..110a4a3\n",
            "Fast-forward\n",
            " train_policy.py            | 8 \u001b[32m++++\u001b[m\u001b[31m----\u001b[m\n",
            " utils/cleanse_and_split.py | 1 \u001b[32m+\u001b[m\n",
            " 2 files changed, 5 insertions(+), 4 deletions(-)\n"
          ],
          "name": "stdout"
        }
      ]
    },
    {
      "cell_type": "code",
      "metadata": {
        "colab": {
          "base_uri": "https://localhost:8080/"
        },
        "id": "U9wksYeZR-7t",
        "outputId": "eff7699b-8fd2-46fa-fa13-132f3e857128"
      },
      "source": [
        "! poetry run python train_policy.py kifulist_train=\"$kifulist_train\" kifulist_valid=\"$kifulist_valid\" gpus=1 epoch=100"
      ],
      "execution_count": null,
      "outputs": [
        {
          "output_type": "stream",
          "text": [
            "DEBUG:hydra.core.utils:Setting JobRuntime:name=UNKNOWN_NAME\n",
            "DEBUG:hydra.core.utils:Setting JobRuntime:name=train_policy\n",
            "[2021-07-03 18:40:58,720][root][INFO] - start to load dataset /content/drive/MyDrive/Workspace/Dataset/shogi_ai/data/dataset_information/kifulist_train_middle.pickle.\n",
            "[2021-07-03 18:40:58,721][root][INFO] - positions dataset (path=/content/drive/MyDrive/Workspace/Dataset/shogi_ai/data/dataset_information/kifulist_train_middle_positions.pickle) has already been pickled. load it.\u0010\n",
            "[2021-07-03 18:41:08,924][root][INFO] - finish to load dataset.\n",
            "[2021-07-03 18:41:08,925][root][INFO] - start to load dataset /content/drive/MyDrive/Workspace/Dataset/shogi_ai/data/dataset_information/kifulist_valid_middle.pickle.\n",
            "[2021-07-03 18:41:08,925][root][INFO] - positions dataset (path=/content/drive/MyDrive/Workspace/Dataset/shogi_ai/data/dataset_information/kifulist_valid_middle_positions.pickle) has already been pickled. load it.\u0010\n",
            "[2021-07-03 18:41:12,281][root][INFO] - finish to load dataset.\n",
            "/root/.cache/pypoetry/virtualenvs/shogi-ai-HyuIFd4B-py3.7/lib/python3.7/site-packages/torch/utils/data/dataloader.py:481: UserWarning: This DataLoader will create 6 worker processes in total. Our suggested max number of worker in current system is 2, which is smaller than what this DataLoader is going to create. Please be aware that excessive worker creation might get DataLoader running slow or even freeze, lower the worker number to avoid potential slowness/freeze if necessary.\n",
            "  cpuset_checked))\n",
            "GPU available: True, used: True\n",
            "TPU available: False, using: 0 TPU cores\n",
            "LOCAL_RANK: 0 - CUDA_VISIBLE_DEVICES: [0]\n",
            "\n",
            "   | Name   | Type   | Params\n",
            "-----------------------------------\n",
            "0  | conv01 | Conv2d | 179 K \n",
            "1  | conv02 | Conv2d | 331 K \n",
            "2  | conv03 | Conv2d | 331 K \n",
            "3  | conv04 | Conv2d | 331 K \n",
            "4  | conv05 | Conv2d | 331 K \n",
            "5  | conv06 | Conv2d | 331 K \n",
            "6  | conv07 | Conv2d | 331 K \n",
            "7  | conv08 | Conv2d | 331 K \n",
            "8  | conv09 | Conv2d | 331 K \n",
            "9  | conv10 | Conv2d | 331 K \n",
            "10 | conv11 | Conv2d | 331 K \n",
            "11 | conv12 | Conv2d | 331 K \n",
            "12 | conv13 | Conv2d | 5.2 K \n",
            "-----------------------------------\n",
            "3.8 M     Trainable params\n",
            "0         Non-trainable params\n",
            "3.8 M     Total params\n",
            "15.347    Total estimated model params size (MB)\n",
            "Epoch 0:  10% 520/5243 [00:52<07:54,  9.95it/s, loss=5.83, v_num=0, valid_loss=7.690, valid_accuracy=0.000]\n",
            "Validating: 0it [00:00, ?it/s]\u001b[A\n",
            "Validating:   0% 0/5 [00:00<?, ?it/s]\u001b[A\n",
            "Epoch 0:  10% 540/5243 [00:55<08:05,  9.69it/s, loss=5.82, v_num=0, valid_loss=5.830, valid_accuracy=0.0668]\n",
            "Epoch 0:  21% 1080/5243 [01:48<06:58,  9.95it/s, loss=4.69, v_num=0, valid_loss=5.830, valid_accuracy=0.0668]\n",
            "Validating: 0it [00:00, ?it/s]\u001b[A\n",
            "Validating:   0% 0/5 [00:00<?, ?it/s]\u001b[A\n",
            "Epoch 0:  21% 1100/5243 [01:51<07:01,  9.82it/s, loss=4.67, v_num=0, valid_loss=4.600, valid_accuracy=0.167] \n",
            "Epoch 0:  31% 1640/5243 [02:44<06:01,  9.96it/s, loss=4.17, v_num=0, valid_loss=4.600, valid_accuracy=0.167]\n",
            "Validating: 0it [00:00, ?it/s]\u001b[A\n",
            "Validating:   0% 0/5 [00:00<?, ?it/s]\u001b[A\n",
            "Epoch 0:  32% 1660/5243 [02:48<06:02,  9.87it/s, loss=4.2, v_num=0, valid_loss=4.230, valid_accuracy=0.196] \n",
            "Epoch 0:  42% 2200/5243 [03:40<05:05,  9.96it/s, loss=3.99, v_num=0, valid_loss=4.230, valid_accuracy=0.196]\n",
            "Validating: 0it [00:00, ?it/s]\u001b[A\n",
            "Validating:   0% 0/5 [00:00<?, ?it/s]\u001b[A\n",
            "Epoch 0:  42% 2220/5243 [03:44<05:05,  9.89it/s, loss=3.97, v_num=0, valid_loss=4.000, valid_accuracy=0.215]\n",
            "Epoch 0:  53% 2760/5243 [04:37<04:09,  9.95it/s, loss=3.89, v_num=0, valid_loss=4.000, valid_accuracy=0.215]\n",
            "Validating: 0it [00:00, ?it/s]\u001b[A\n",
            "Validating:   0% 0/5 [00:00<?, ?it/s]\u001b[A\n",
            "Epoch 0:  53% 2780/5243 [04:40<04:08,  9.90it/s, loss=3.9, v_num=0, valid_loss=3.840, valid_accuracy=0.212] \n",
            "Epoch 0:  63% 3320/5243 [05:33<03:13,  9.95it/s, loss=3.75, v_num=0, valid_loss=3.840, valid_accuracy=0.212]\n",
            "Validating: 0it [00:00, ?it/s]\u001b[A\n",
            "Validating:   0% 0/5 [00:00<?, ?it/s]\u001b[A\n",
            "Epoch 0:  64% 3340/5243 [05:37<03:12,  9.90it/s, loss=3.73, v_num=0, valid_loss=3.830, valid_accuracy=0.224]\n",
            "Epoch 0:  74% 3880/5243 [06:30<02:17,  9.95it/s, loss=3.79, v_num=0, valid_loss=3.830, valid_accuracy=0.224]\n",
            "Validating: 0it [00:00, ?it/s]\u001b[A\n",
            "Validating:   0% 0/5 [00:00<?, ?it/s]\u001b[A\n",
            "Epoch 0:  74% 3900/5243 [06:33<02:15,  9.91it/s, loss=3.75, v_num=0, valid_loss=3.750, valid_accuracy=0.232]\n",
            "Epoch 0:  85% 4440/5243 [07:26<01:20,  9.94it/s, loss=3.67, v_num=0, valid_loss=3.750, valid_accuracy=0.232]\n",
            "Validating: 0it [00:00, ?it/s]\u001b[A\n",
            "Validating:   0% 0/5 [00:00<?, ?it/s]\u001b[A\n",
            "Epoch 0:  85% 4460/5243 [07:29<01:18,  9.91it/s, loss=3.7, v_num=0, valid_loss=3.640, valid_accuracy=0.241] \n",
            "Epoch 0:  95% 5000/5243 [08:22<00:24,  9.94it/s, loss=3.67, v_num=0, valid_loss=3.640, valid_accuracy=0.241]\n",
            "Validating: 0it [00:00, ?it/s]\u001b[A\n",
            "Validating:   0% 0/5 [00:00<?, ?it/s]\u001b[A\n",
            "Epoch 0:  96% 5020/5243 [08:26<00:22,  9.91it/s, loss=3.67, v_num=0, valid_loss=3.600, valid_accuracy=0.245]\n",
            "Epoch 0: 100% 5243/5243 [09:18<00:00,  9.39it/s, loss=3.55, v_num=0, valid_loss=3.600, valid_accuracy=0.245]\n",
            "Validating: 0it [00:00, ?it/s]\u001b[A\n",
            "Validating:   0% 0/5 [00:00<?, ?it/s]\u001b[A\n",
            "Epoch 0: 100% 5243/5243 [09:23<00:00,  9.31it/s, loss=3.53, v_num=0, valid_loss=3.580, valid_accuracy=0.243]\n",
            "Epoch 1:  10% 520/5243 [00:52<08:00,  9.84it/s, loss=3.52, v_num=0, valid_loss=3.580, valid_accuracy=0.243]\n",
            "Validating: 0it [00:00, ?it/s]\u001b[A\n",
            "Validating:   0% 0/5 [00:00<?, ?it/s]\u001b[A\n",
            "Epoch 1:  10% 540/5243 [00:56<08:10,  9.58it/s, loss=3.51, v_num=0, valid_loss=3.540, valid_accuracy=0.244]\n",
            "Epoch 1:  16% 860/5243 [01:27<07:24,  9.86it/s, loss=3.55, v_num=0, valid_loss=3.540, valid_accuracy=0.244]"
          ],
          "name": "stdout"
        }
      ]
    }
  ]
}